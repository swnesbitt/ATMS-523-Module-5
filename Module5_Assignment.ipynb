{
 "cells": [
  {
   "cell_type": "code",
   "execution_count": 103,
   "metadata": {},
   "outputs": [],
   "source": [
    "# get modules\n",
    "\n",
    "import numpy as np\n",
    "import pandas as pd\n",
    "from sklearn.model_selection import train_test_split\n",
    "from sklearn.metrics import r2_score, mean_squared_error\n",
    "from sklearn.linear_model import LinearRegression\n",
    "from sklearn.preprocessing import PolynomialFeatures\n",
    "from sklearn.pipeline import make_pipeline\n",
    "from sklearn.model_selection import GridSearchCV\n",
    "from sklearn.ensemble import RandomForestRegressor\n",
    "from sklearn.preprocessing import StandardScaler\n",
    "np.random.seed(282828)"
   ]
  },
  {
   "cell_type": "code",
   "execution_count": null,
   "metadata": {},
   "outputs": [],
   "source": [
    "df = (\n",
    "    pd.read_csv(\"../ATMS-523-MODULE-5/homework/radar_parameters.csv\", index_col=0)\n",
    "    .rename({'Zh (dBZ)': 'Zh',\n",
    "             'Zdr (dB)': 'Zdr',\n",
    "             'Ldr (dB)': 'Ldr',\n",
    "             'Kdp (deg km-1)': 'Kdp',\n",
    "             'Ah (dBZ/km)': 'Ah',\n",
    "             'Adr (dB/km)': 'Adr',\n",
    "             'R (mm/hr)': 'R'}, axis=1)\n",
    ")\n",
    "df['Zh'] = 10**(df['Zh']/ 10)\n",
    "# features = ['Zh','Zdr','Ldr', 'Kdp', 'Ah', 'Adr']\n",
    "features = ['Zh']\n",
    "target = ['R']"
   ]
  },
  {
   "cell_type": "code",
   "execution_count": 83,
   "metadata": {},
   "outputs": [
    {
     "data": {
      "text/html": [
       "<div>\n",
       "<style scoped>\n",
       "    .dataframe tbody tr th:only-of-type {\n",
       "        vertical-align: middle;\n",
       "    }\n",
       "\n",
       "    .dataframe tbody tr th {\n",
       "        vertical-align: top;\n",
       "    }\n",
       "\n",
       "    .dataframe thead th {\n",
       "        text-align: right;\n",
       "    }\n",
       "</style>\n",
       "<table border=\"1\" class=\"dataframe\">\n",
       "  <thead>\n",
       "    <tr style=\"text-align: right;\">\n",
       "      <th></th>\n",
       "      <th>Zh</th>\n",
       "      <th>Zdr</th>\n",
       "      <th>Ldr</th>\n",
       "      <th>Kdp</th>\n",
       "      <th>Ah</th>\n",
       "      <th>Adr</th>\n",
       "      <th>R</th>\n",
       "    </tr>\n",
       "  </thead>\n",
       "  <tbody>\n",
       "    <tr>\n",
       "      <th>0</th>\n",
       "      <td>206.294563</td>\n",
       "      <td>0.418637</td>\n",
       "      <td>-41.757733</td>\n",
       "      <td>0.005395</td>\n",
       "      <td>0.000290</td>\n",
       "      <td>0.000012</td>\n",
       "      <td>2.393520</td>\n",
       "    </tr>\n",
       "    <tr>\n",
       "      <th>1</th>\n",
       "      <td>187.808651</td>\n",
       "      <td>0.322850</td>\n",
       "      <td>-43.772069</td>\n",
       "      <td>0.005194</td>\n",
       "      <td>0.000360</td>\n",
       "      <td>0.000012</td>\n",
       "      <td>3.502699</td>\n",
       "    </tr>\n",
       "    <tr>\n",
       "      <th>2</th>\n",
       "      <td>486.387732</td>\n",
       "      <td>0.330948</td>\n",
       "      <td>-43.577399</td>\n",
       "      <td>0.013385</td>\n",
       "      <td>0.000903</td>\n",
       "      <td>0.000030</td>\n",
       "      <td>8.627561</td>\n",
       "    </tr>\n",
       "    <tr>\n",
       "      <th>3</th>\n",
       "      <td>714.588688</td>\n",
       "      <td>0.399480</td>\n",
       "      <td>-42.139731</td>\n",
       "      <td>0.018872</td>\n",
       "      <td>0.001036</td>\n",
       "      <td>0.000043</td>\n",
       "      <td>8.424447</td>\n",
       "    </tr>\n",
       "    <tr>\n",
       "      <th>4</th>\n",
       "      <td>1122.051192</td>\n",
       "      <td>0.543758</td>\n",
       "      <td>-39.763087</td>\n",
       "      <td>0.027438</td>\n",
       "      <td>0.001157</td>\n",
       "      <td>0.000064</td>\n",
       "      <td>8.189291</td>\n",
       "    </tr>\n",
       "    <tr>\n",
       "      <th>...</th>\n",
       "      <td>...</td>\n",
       "      <td>...</td>\n",
       "      <td>...</td>\n",
       "      <td>...</td>\n",
       "      <td>...</td>\n",
       "      <td>...</td>\n",
       "      <td>...</td>\n",
       "    </tr>\n",
       "    <tr>\n",
       "      <th>18964</th>\n",
       "      <td>1417.750266</td>\n",
       "      <td>0.579955</td>\n",
       "      <td>-39.244229</td>\n",
       "      <td>0.034048</td>\n",
       "      <td>0.001417</td>\n",
       "      <td>0.000080</td>\n",
       "      <td>10.648020</td>\n",
       "    </tr>\n",
       "    <tr>\n",
       "      <th>18965</th>\n",
       "      <td>998.466291</td>\n",
       "      <td>0.567935</td>\n",
       "      <td>-39.399188</td>\n",
       "      <td>0.024134</td>\n",
       "      <td>0.001032</td>\n",
       "      <td>0.000057</td>\n",
       "      <td>7.981875</td>\n",
       "    </tr>\n",
       "    <tr>\n",
       "      <th>18966</th>\n",
       "      <td>1474.318332</td>\n",
       "      <td>0.655681</td>\n",
       "      <td>-38.375696</td>\n",
       "      <td>0.033971</td>\n",
       "      <td>0.001165</td>\n",
       "      <td>0.000081</td>\n",
       "      <td>6.822691</td>\n",
       "    </tr>\n",
       "    <tr>\n",
       "      <th>18967</th>\n",
       "      <td>1986.138902</td>\n",
       "      <td>0.768586</td>\n",
       "      <td>-37.166218</td>\n",
       "      <td>0.043117</td>\n",
       "      <td>0.001285</td>\n",
       "      <td>0.000105</td>\n",
       "      <td>6.801169</td>\n",
       "    </tr>\n",
       "    <tr>\n",
       "      <th>18968</th>\n",
       "      <td>746.689299</td>\n",
       "      <td>0.804155</td>\n",
       "      <td>-36.795913</td>\n",
       "      <td>0.015908</td>\n",
       "      <td>0.000469</td>\n",
       "      <td>0.000039</td>\n",
       "      <td>2.582440</td>\n",
       "    </tr>\n",
       "  </tbody>\n",
       "</table>\n",
       "<p>18969 rows × 7 columns</p>\n",
       "</div>"
      ],
      "text/plain": [
       "                Zh       Zdr        Ldr       Kdp        Ah       Adr  \\\n",
       "0       206.294563  0.418637 -41.757733  0.005395  0.000290  0.000012   \n",
       "1       187.808651  0.322850 -43.772069  0.005194  0.000360  0.000012   \n",
       "2       486.387732  0.330948 -43.577399  0.013385  0.000903  0.000030   \n",
       "3       714.588688  0.399480 -42.139731  0.018872  0.001036  0.000043   \n",
       "4      1122.051192  0.543758 -39.763087  0.027438  0.001157  0.000064   \n",
       "...            ...       ...        ...       ...       ...       ...   \n",
       "18964  1417.750266  0.579955 -39.244229  0.034048  0.001417  0.000080   \n",
       "18965   998.466291  0.567935 -39.399188  0.024134  0.001032  0.000057   \n",
       "18966  1474.318332  0.655681 -38.375696  0.033971  0.001165  0.000081   \n",
       "18967  1986.138902  0.768586 -37.166218  0.043117  0.001285  0.000105   \n",
       "18968   746.689299  0.804155 -36.795913  0.015908  0.000469  0.000039   \n",
       "\n",
       "               R  \n",
       "0       2.393520  \n",
       "1       3.502699  \n",
       "2       8.627561  \n",
       "3       8.424447  \n",
       "4       8.189291  \n",
       "...          ...  \n",
       "18964  10.648020  \n",
       "18965   7.981875  \n",
       "18966   6.822691  \n",
       "18967   6.801169  \n",
       "18968   2.582440  \n",
       "\n",
       "[18969 rows x 7 columns]"
      ]
     },
     "execution_count": 83,
     "metadata": {},
     "output_type": "execute_result"
    }
   ],
   "source": [
    "df"
   ]
  },
  {
   "cell_type": "markdown",
   "metadata": {},
   "source": [
    "### 1. Split the data into a 70-30 split for training and testing data."
   ]
  },
  {
   "cell_type": "code",
   "execution_count": 84,
   "metadata": {},
   "outputs": [
    {
     "name": "stdout",
     "output_type": "stream",
     "text": [
      "0.6999841847224418\n"
     ]
    }
   ],
   "source": [
    "X = df[features].values\n",
    "y = df[target].values\n",
    "X_train, X_test, y_train, y_test = train_test_split(X, y, test_size=0.30)\n",
    "print(len(X_train)/len(df))"
   ]
  },
  {
   "cell_type": "markdown",
   "metadata": {},
   "source": [
    "### 2. Using the split created in (1), train a multiple linear regression dataset using the training dataset, and validate it using the testing dataset.  Compare the $R^2$ and root mean square errors of model on the training and testing sets to a baseline prediction of rain rate using the formula $Z = 200 R^{1.6}$."
   ]
  },
  {
   "cell_type": "code",
   "execution_count": 85,
   "metadata": {},
   "outputs": [],
   "source": [
    "model = LinearRegression(fit_intercept=True)\n",
    "model.fit(X_train, y_train)\n",
    "y_pred = model.predict(X_test)\n",
    "R_baseline = (X_test[:,0] / 200)**(1 / 1.6)"
   ]
  },
  {
   "cell_type": "code",
   "execution_count": 98,
   "metadata": {},
   "outputs": [
    {
     "name": "stdout",
     "output_type": "stream",
     "text": [
      "The R2 score for the model is 0.3461045729867669\n",
      "The R2 score for the baseline is 0.3360241963942211\n",
      "The root mean square error of the model is 7.3155895546578025\n",
      "The root mean square error of the baseline is 7.371762038500547\n"
     ]
    }
   ],
   "source": [
    "print(\"The R2 score for the model is\", r2_score(y_true=y_test, y_pred=y_pred))\n",
    "print(\"The R2 score for the baseline is\", r2_score(y_true=y_test, y_pred=R_baseline))\n",
    "print(\"The root mean square error of the model is\", np.sqrt(mean_squared_error(y_true=y_test, y_pred=y_pred)))\n",
    "print(\"The root mean square error of the baseline is\", np.sqrt(mean_squared_error(y_true=y_test, y_pred=R_baseline)))"
   ]
  },
  {
   "cell_type": "markdown",
   "metadata": {},
   "source": [
    "### 3. Repeat 1 doing a grid search over polynomial orders, using a grid search over orders 0-9, and use cross-validation of 7 folds.  For the best polynomial model in terms of $R^2$, does it outperform the baseline and the linear regression model in terms of $R^2$ and root mean square error?"
   ]
  },
  {
   "cell_type": "code",
   "execution_count": 99,
   "metadata": {},
   "outputs": [
    {
     "data": {
      "text/plain": [
       "{'linearregression__fit_intercept': True,\n",
       " 'polynomialfeatures__degree': np.int64(3)}"
      ]
     },
     "execution_count": 99,
     "metadata": {},
     "output_type": "execute_result"
    }
   ],
   "source": [
    "def PolynomialRegression(degree=2, **kwargs):\n",
    "    return make_pipeline(PolynomialFeatures(degree),\n",
    "                         LinearRegression(**kwargs))\n",
    "\n",
    "param_grid = {'polynomialfeatures__degree': np.arange(21),\n",
    "              'linearregression__fit_intercept': [True, False]}\n",
    "\n",
    "grid = GridSearchCV(PolynomialRegression(), param_grid, cv=7)\n",
    "grid.fit(X_train, y_train)\n",
    "grid.best_params_"
   ]
  },
  {
   "cell_type": "code",
   "execution_count": 104,
   "metadata": {},
   "outputs": [
    {
     "name": "stdout",
     "output_type": "stream",
     "text": [
      "The R2 score for the linear model is 0.3461045729867669\n",
      "The R2 score for the baseline is 0.3360241963942211\n",
      "The R2 score for the polynomial model is 0.3982811987853676\n",
      "The root mean square error of the linear model is 7.3155895546578025\n",
      "The root mean square error of the baseline is 7.371762038500547\n",
      "The root mean square error of the polynomial model is 7.017654323454563\n"
     ]
    }
   ],
   "source": [
    "model_poly = grid.best_estimator_\n",
    "y_pred_poly = model_poly.predict(X_test)\n",
    "print(\"The R2 score for the linear model is\", r2_score(y_true=y_test, y_pred=y_pred))\n",
    "print(\"The R2 score for the baseline is\", r2_score(y_true=y_test, y_pred=R_baseline))\n",
    "print(\"The R2 score for the polynomial model is\", r2_score(y_true=y_test, y_pred=y_pred_poly))\n",
    "print(\"The root mean square error of the linear model is\", np.sqrt(mean_squared_error(y_true=y_test, y_pred=y_pred)))\n",
    "print(\"The root mean square error of the baseline is\", np.sqrt(mean_squared_error(y_true=y_test, y_pred=R_baseline)))\n",
    "print(\"The root mean square error of the polynomial model is\", np.sqrt(mean_squared_error(y_true=y_test, y_pred=y_pred_poly)))"
   ]
  },
  {
   "cell_type": "markdown",
   "metadata": {},
   "source": [
    "### 4. Repeat 1 with a Random Forest Regressor, and perform a grid_search on the following parameters:\n",
    "\n",
    "   ```python\n",
    "param_grid = {\n",
    " \"bootstrap\": [True, False],\n",
    " \"max_depth\": [10, 100],\n",
    " \"max_features\": [\"sqrt\", 1.0],  \n",
    " \"min_samples_leaf\": [1, 4],\n",
    " \"min_samples_split\": [2, 10],\n",
    " \"n_estimators\": [200, 1000]}\n",
    "   ```\n",
    "  Can you beat the baseline, or the linear regression, or best polynomial model with the best optimized Random Forest Regressor in terms of $R^2$ and root mean square error?"
   ]
  },
  {
   "cell_type": "code",
   "execution_count": null,
   "metadata": {},
   "outputs": [
    {
     "name": "stdout",
     "output_type": "stream",
     "text": [
      "Fitting 7 folds for each of 64 candidates, totalling 448 fits\n",
      "The R2 score for the linear model is 0.3461045729867669\n",
      "The R2 score for the baseline is 0.3360241963942211\n",
      "The R2 score for the polynomial model is 0.3982811987853676\n",
      "The R2 score for the RF model is 0.4766047617166058\n",
      "The root mean square error of the linear model is 7.3155895546578025\n",
      "The root mean square error of the baseline is 7.371762038500547\n",
      "The root mean square error of the polynomial model is 7.017654323454563\n",
      "The root mean square error of the RF model is 6.545006236042266\n"
     ]
    }
   ],
   "source": [
    "def RandomForestPipeline(**kwargs):\n",
    "    return make_pipeline(StandardScaler(), RandomForestRegressor(random_state=282828, **kwargs))\n",
    "\n",
    "param_grid_rf = {\n",
    "    \"randomforestregressor__bootstrap\": [True, False],\n",
    "    \"randomforestregressor__max_depth\": [10, 100],\n",
    "    \"randomforestregressor__max_features\": [\"sqrt\", 1.0],  \n",
    "    \"randomforestregressor__min_samples_leaf\": [1, 4],\n",
    "    \"randomforestregressor__min_samples_split\": [2, 10],\n",
    "    \"randomforestregressor__n_estimators\": [200, 1000]\n",
    "}\n",
    "\n",
    "grid_search_rf = GridSearchCV(\n",
    "    RandomForestPipeline(),\n",
    "    param_grid_rf,\n",
    "    cv=7,\n",
    "    scoring='r2',\n",
    "    n_jobs=-1,\n",
    "    verbose=1\n",
    ")\n",
    "\n",
    "grid_search_rf.fit(X_train, y_train.ravel())\n",
    "model_rf = grid_search_rf.best_estimator_\n",
    "y_pred_rf = model_rf.predict(X_test)\n",
    "print(\"The R2 score for the linear model is\", r2_score(y_true=y_test, y_pred=y_pred))\n",
    "print(\"The R2 score for the baseline is\", r2_score(y_true=y_test, y_pred=R_baseline))\n",
    "print(\"The R2 score for the polynomial model is\", r2_score(y_true=y_test, y_pred=y_pred_poly))\n",
    "print(\"The R2 score for the RF model is\", r2_score(y_true=y_test, y_pred=y_pred_rf))\n",
    "print(\"The root mean square error of the linear model is\", np.sqrt(mean_squared_error(y_true=y_test, y_pred=y_pred)))\n",
    "print(\"The root mean square error of the baseline is\", np.sqrt(mean_squared_error(y_true=y_test, y_pred=R_baseline)))\n",
    "print(\"The root mean square error of the polynomial model is\", np.sqrt(mean_squared_error(y_true=y_test, y_pred=y_pred_poly)))\n",
    "print(\"The root mean square error of the RF model is\", np.sqrt(mean_squared_error(y_true=y_test, y_pred=y_pred_rf)))"
   ]
  },
  {
   "cell_type": "code",
   "execution_count": null,
   "metadata": {},
   "outputs": [],
   "source": []
  }
 ],
 "metadata": {
  "kernelspec": {
   "display_name": "xarray-climate",
   "language": "python",
   "name": "python3"
  },
  "language_info": {
   "codemirror_mode": {
    "name": "ipython",
    "version": 3
   },
   "file_extension": ".py",
   "mimetype": "text/x-python",
   "name": "python",
   "nbconvert_exporter": "python",
   "pygments_lexer": "ipython3",
   "version": "3.13.7"
  }
 },
 "nbformat": 4,
 "nbformat_minor": 2
}
